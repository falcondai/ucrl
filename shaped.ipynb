{
 "cells": [
  {
   "cell_type": "code",
   "execution_count": 1,
   "metadata": {},
   "outputs": [
    {
     "name": "stdout",
     "output_type": "stream",
     "text": [
      "Populating the interactive namespace from numpy and matplotlib\n"
     ]
    }
   ],
   "source": [
    "%pylab inline"
   ]
  },
  {
   "cell_type": "code",
   "execution_count": 2,
   "metadata": {},
   "outputs": [],
   "source": [
    "import mdp"
   ]
  },
  {
   "cell_type": "code",
   "execution_count": 3,
   "metadata": {},
   "outputs": [],
   "source": [
    "import ucrl2"
   ]
  },
  {
   "cell_type": "code",
   "execution_count": 19,
   "metadata": {},
   "outputs": [],
   "source": [
    "import itertools"
   ]
  },
  {
   "cell_type": "code",
   "execution_count": 181,
   "metadata": {},
   "outputs": [],
   "source": [
    "eps = 0.1\n",
    "n_states = 20\n",
    "n_actions = 2"
   ]
  },
  {
   "cell_type": "code",
   "execution_count": 182,
   "metadata": {},
   "outputs": [],
   "source": [
    "m = mdp.RingMDP(n_states, eps)"
   ]
  },
  {
   "cell_type": "code",
   "execution_count": 183,
   "metadata": {},
   "outputs": [],
   "source": [
    "m.r[-1] = 1"
   ]
  },
  {
   "cell_type": "code",
   "execution_count": 184,
   "metadata": {},
   "outputs": [
    {
     "data": {
      "text/plain": [
       "array([[0., 0.],\n",
       "       [0., 0.],\n",
       "       [0., 0.],\n",
       "       [0., 0.],\n",
       "       [0., 0.],\n",
       "       [0., 0.],\n",
       "       [0., 0.],\n",
       "       [0., 0.],\n",
       "       [0., 0.],\n",
       "       [0., 0.],\n",
       "       [0., 0.],\n",
       "       [0., 0.],\n",
       "       [0., 0.],\n",
       "       [0., 0.],\n",
       "       [0., 0.],\n",
       "       [0., 0.],\n",
       "       [0., 0.],\n",
       "       [0., 0.],\n",
       "       [0., 0.],\n",
       "       [1., 1.]])"
      ]
     },
     "execution_count": 184,
     "metadata": {},
     "output_type": "execute_result"
    }
   ],
   "source": [
    "m.r"
   ]
  },
  {
   "cell_type": "code",
   "execution_count": 13,
   "metadata": {},
   "outputs": [
    {
     "data": {
      "text/plain": [
       "array([[[1. , 0. , 0. , 0. , 0. , 0. , 0. , 0. , 0. , 0. ],\n",
       "        [0.9, 0.1, 0. , 0. , 0. , 0. , 0. , 0. , 0. , 0. ]],\n",
       "\n",
       "       [[0. , 1. , 0. , 0. , 0. , 0. , 0. , 0. , 0. , 0. ],\n",
       "        [0. , 0.9, 0.1, 0. , 0. , 0. , 0. , 0. , 0. , 0. ]],\n",
       "\n",
       "       [[0. , 0. , 1. , 0. , 0. , 0. , 0. , 0. , 0. , 0. ],\n",
       "        [0. , 0. , 0.9, 0.1, 0. , 0. , 0. , 0. , 0. , 0. ]],\n",
       "\n",
       "       [[0. , 0. , 0. , 1. , 0. , 0. , 0. , 0. , 0. , 0. ],\n",
       "        [0. , 0. , 0. , 0.9, 0.1, 0. , 0. , 0. , 0. , 0. ]],\n",
       "\n",
       "       [[0. , 0. , 0. , 0. , 1. , 0. , 0. , 0. , 0. , 0. ],\n",
       "        [0. , 0. , 0. , 0. , 0.9, 0.1, 0. , 0. , 0. , 0. ]],\n",
       "\n",
       "       [[0. , 0. , 0. , 0. , 0. , 1. , 0. , 0. , 0. , 0. ],\n",
       "        [0. , 0. , 0. , 0. , 0. , 0.9, 0.1, 0. , 0. , 0. ]],\n",
       "\n",
       "       [[0. , 0. , 0. , 0. , 0. , 0. , 1. , 0. , 0. , 0. ],\n",
       "        [0. , 0. , 0. , 0. , 0. , 0. , 0.9, 0.1, 0. , 0. ]],\n",
       "\n",
       "       [[0. , 0. , 0. , 0. , 0. , 0. , 0. , 1. , 0. , 0. ],\n",
       "        [0. , 0. , 0. , 0. , 0. , 0. , 0. , 0.9, 0.1, 0. ]],\n",
       "\n",
       "       [[0. , 0. , 0. , 0. , 0. , 0. , 0. , 0. , 1. , 0. ],\n",
       "        [0. , 0. , 0. , 0. , 0. , 0. , 0. , 0. , 0.9, 0.1]],\n",
       "\n",
       "       [[0. , 0. , 0. , 0. , 0. , 0. , 0. , 0. , 0. , 1. ],\n",
       "        [0.1, 0. , 0. , 0. , 0. , 0. , 0. , 0. , 0. , 0.9]]])"
      ]
     },
     "execution_count": 13,
     "metadata": {},
     "output_type": "execute_result"
    }
   ],
   "source": [
    "m.p"
   ]
  },
  {
   "cell_type": "code",
   "execution_count": 223,
   "metadata": {},
   "outputs": [],
   "source": [
    "# Potentials\n",
    "phi_1 = - (n_states - 1 - arange(n_states)) / eps\n",
    "phi_2 = linspace(0, 1 / eps, n_states)"
   ]
  },
  {
   "cell_type": "code",
   "execution_count": 224,
   "metadata": {},
   "outputs": [
    {
     "data": {
      "text/plain": [
       "array([ 0.        ,  0.52631579,  1.05263158,  1.57894737,  2.10526316,\n",
       "        2.63157895,  3.15789474,  3.68421053,  4.21052632,  4.73684211,\n",
       "        5.26315789,  5.78947368,  6.31578947,  6.84210526,  7.36842105,\n",
       "        7.89473684,  8.42105263,  8.94736842,  9.47368421, 10.        ])"
      ]
     },
     "execution_count": 224,
     "metadata": {},
     "output_type": "execute_result"
    }
   ],
   "source": [
    "phi_2"
   ]
  },
  {
   "cell_type": "code",
   "execution_count": 225,
   "metadata": {},
   "outputs": [],
   "source": [
    "# Potential-shaped rewards\n",
    "r_phi = m.r.copy()\n",
    "for st, ac in itertools.product(range(n_states), range(n_actions)):\n",
    "    r_phi[st, ac] += (m.p[st, ac] * phi_2).sum() - phi_2[st]"
   ]
  },
  {
   "cell_type": "code",
   "execution_count": 226,
   "metadata": {},
   "outputs": [
    {
     "data": {
      "text/plain": [
       "array([[0.        , 0.05263158],\n",
       "       [0.        , 0.05263158],\n",
       "       [0.        , 0.05263158],\n",
       "       [0.        , 0.05263158],\n",
       "       [0.        , 0.05263158],\n",
       "       [0.        , 0.05263158],\n",
       "       [0.        , 0.05263158],\n",
       "       [0.        , 0.05263158],\n",
       "       [0.        , 0.05263158],\n",
       "       [0.        , 0.05263158],\n",
       "       [0.        , 0.05263158],\n",
       "       [0.        , 0.05263158],\n",
       "       [0.        , 0.05263158],\n",
       "       [0.        , 0.05263158],\n",
       "       [0.        , 0.05263158],\n",
       "       [0.        , 0.05263158],\n",
       "       [0.        , 0.05263158],\n",
       "       [0.        , 0.05263158],\n",
       "       [0.        , 0.05263158],\n",
       "       [1.        , 0.        ]])"
      ]
     },
     "execution_count": 226,
     "metadata": {},
     "output_type": "execute_result"
    }
   ],
   "source": [
    "r_phi"
   ]
  },
  {
   "cell_type": "code",
   "execution_count": 189,
   "metadata": {},
   "outputs": [],
   "source": [
    "# Scale r_phi to [0, 1] with phi_1\n",
    "# r_phi = (r_phi - r_phi.min()) / r_phi.ptp()"
   ]
  },
  {
   "cell_type": "code",
   "execution_count": 215,
   "metadata": {},
   "outputs": [],
   "source": [
    "# Phi-shaped MDP\n",
    "m_phi = mdp.SimpleMDP(n_states, n_actions, m.p, r_phi)"
   ]
  },
  {
   "cell_type": "code",
   "execution_count": 109,
   "metadata": {},
   "outputs": [],
   "source": [
    "delta = 0.5"
   ]
  },
  {
   "cell_type": "code",
   "execution_count": 198,
   "metadata": {},
   "outputs": [],
   "source": [
    "n_trajs = 10\n",
    "len_trajs = 100000\n",
    "trajs = []\n",
    "for _ in range(n_trajs):\n",
    "    tr = ucrl2.ucrl2(m, delta, initial_state=0)\n",
    "    traj = []\n",
    "    for _ in range(len_trajs):\n",
    "        (t, st, ac, next_st, r) = next(tr)\n",
    "        traj.append((t, st, ac, next_st, r))\n",
    "    trajs.append(traj)"
   ]
  },
  {
   "cell_type": "code",
   "execution_count": 221,
   "metadata": {},
   "outputs": [
    {
     "data": {
      "text/plain": [
       "[(99981, 14, 0, 14, 0.0),\n",
       " (99982, 14, 0, 14, 0.0),\n",
       " (99983, 14, 0, 14, 0.0),\n",
       " (99984, 14, 0, 14, 0.0),\n",
       " (99985, 14, 0, 14, 0.0),\n",
       " (99986, 14, 0, 14, 0.0),\n",
       " (99987, 14, 0, 14, 0.0),\n",
       " (99988, 14, 0, 14, 0.0),\n",
       " (99989, 14, 0, 14, 0.0),\n",
       " (99990, 14, 0, 14, 0.0),\n",
       " (99991, 14, 0, 14, 0.0),\n",
       " (99992, 14, 0, 14, 0.0),\n",
       " (99993, 14, 0, 14, 0.0),\n",
       " (99994, 14, 0, 14, 0.0),\n",
       " (99995, 14, 0, 14, 0.0),\n",
       " (99996, 14, 0, 14, 0.0),\n",
       " (99997, 14, 0, 14, 0.0),\n",
       " (99998, 14, 0, 14, 0.0),\n",
       " (99999, 14, 0, 14, 0.0),\n",
       " (100000, 14, 0, 14, 0.0)]"
      ]
     },
     "execution_count": 221,
     "metadata": {},
     "output_type": "execute_result"
    }
   ],
   "source": [
    "trajs[0][-20:]"
   ]
  },
  {
   "cell_type": "code",
   "execution_count": 217,
   "metadata": {},
   "outputs": [],
   "source": [
    "phi_trajs = []\n",
    "for _ in range(n_trajs):\n",
    "    tr = ucrl2.ucrl2(m_phi, delta, initial_state=0)\n",
    "    traj = []\n",
    "    for _ in range(len_trajs):\n",
    "        (t, st, ac, next_st, r) = next(tr)\n",
    "        traj.append((t, st, ac, next_st, r))\n",
    "    phi_trajs.append(traj)"
   ]
  },
  {
   "cell_type": "code",
   "execution_count": 218,
   "metadata": {},
   "outputs": [
    {
     "data": {
      "text/plain": [
       "[(99981, 19, 0, 19, 1.0),\n",
       " (99982, 19, 0, 19, 1.0),\n",
       " (99983, 19, 0, 19, 1.0),\n",
       " (99984, 19, 0, 19, 1.0),\n",
       " (99985, 19, 0, 19, 1.0),\n",
       " (99986, 19, 0, 19, 1.0),\n",
       " (99987, 19, 0, 19, 1.0),\n",
       " (99988, 19, 0, 19, 1.0),\n",
       " (99989, 19, 0, 19, 1.0),\n",
       " (99990, 19, 0, 19, 1.0),\n",
       " (99991, 19, 0, 19, 1.0),\n",
       " (99992, 19, 0, 19, 1.0),\n",
       " (99993, 19, 0, 19, 1.0),\n",
       " (99994, 19, 0, 19, 1.0),\n",
       " (99995, 19, 0, 19, 1.0),\n",
       " (99996, 19, 0, 19, 1.0),\n",
       " (99997, 19, 0, 19, 1.0),\n",
       " (99998, 19, 0, 19, 1.0),\n",
       " (99999, 19, 0, 19, 1.0),\n",
       " (100000, 19, 0, 19, 1.0)]"
      ]
     },
     "execution_count": 218,
     "metadata": {},
     "output_type": "execute_result"
    }
   ],
   "source": [
    "phi_trajs[0][-20:]"
   ]
  },
  {
   "cell_type": "code",
   "execution_count": 99,
   "metadata": {},
   "outputs": [],
   "source": [
    "def process_trajectory(trajectory, opt_avg_reward, replace_r=None):\n",
    "    regrets = []\n",
    "    per_step_regret = []\n",
    "    tt = []\n",
    "    acc_regret = 0\n",
    "    for (t, st, ac, next_st, r) in trajectory:\n",
    "        if replace_r is not None:\n",
    "            r = replace_r[st, ac]\n",
    "        acc_regret += opt_avg_reward - r\n",
    "        regrets.append(acc_regret)\n",
    "        per_step_regret.append(acc_regret / t)\n",
    "        tt.append(t)\n",
    "\n",
    "    sregret = np.asarray(regrets)\n",
    "    per_step_regret = np.asarray(per_step_regret)\n",
    "    tt = np.asarray(tt)\n",
    "    return regrets, per_step_regret, tt"
   ]
  },
  {
   "cell_type": "code",
   "execution_count": 136,
   "metadata": {},
   "outputs": [],
   "source": [
    "tt = arange(len_trajs) + 1"
   ]
  },
  {
   "cell_type": "code",
   "execution_count": 90,
   "metadata": {},
   "outputs": [],
   "source": [
    "hitting_cost = (n_states - 1) / eps\n",
    "bound = ucrl2.ucrl2_regret_bound(hitting_cost, n_states, n_actions, delta, tt)"
   ]
  },
  {
   "cell_type": "code",
   "execution_count": 219,
   "metadata": {},
   "outputs": [
    {
     "data": {
      "image/png": "[encoded data removed]",
      "text/plain": [
       "<Figure size 432x288 with 1 Axes>"
      ]
     },
     "metadata": {
      "needs_background": "light"
     },
     "output_type": "display_data"
    }
   ],
   "source": [
    "# plot(acc_regret)\n",
    "# plot(bound, '--')\n",
    "for traj in trajs:\n",
    "    plot(process_trajectory(traj, 1)[0], alpha=0.2, c='b')\n",
    "for traj in phi_trajs:\n",
    "    plot(process_trajectory(traj, 1, replace_r=m.r)[0], alpha=0.2, c='r')"
   ]
  },
  {
   "cell_type": "code",
   "execution_count": 170,
   "metadata": {},
   "outputs": [
    {
     "data": {
      "image/png": "[encoded data removed]",
      "text/plain": [
       "<Figure size 432x288 with 1 Axes>"
      ]
     },
     "metadata": {
      "needs_background": "light"
     },
     "output_type": "display_data"
    }
   ],
   "source": [
    "hitting_cost_phi = 1 / eps\n",
    "# plot(ucrl2.ucrl2_regret_bound(hitting_cost_phi, n_states, n_actions, delta, tt))\n",
    "for traj in phi_trajs:\n",
    "    plot(process_trajectory(traj, 1)[0], alpha=0.2)"
   ]
  },
  {
   "cell_type": "code",
   "execution_count": 171,
   "metadata": {},
   "outputs": [
    {
     "data": {
      "image/png": "[encoded data removed]",
      "text/plain": [
       "<Figure size 432x288 with 1 Axes>"
      ]
     },
     "metadata": {
      "needs_background": "light"
     },
     "output_type": "display_data"
    }
   ],
   "source": [
    "for traj in phi_trajs:\n",
    "    plot(process_trajectory(traj, 1, replace_r=m.r)[0], alpha=0.2)"
   ]
  },
  {
   "cell_type": "code",
   "execution_count": 220,
   "metadata": {},
   "outputs": [
    {
     "data": {
      "text/plain": [
       "<matplotlib.lines.Line2D at 0x1c04cce80>"
      ]
     },
     "execution_count": 220,
     "metadata": {},
     "output_type": "execute_result"
    },
    {
     "data": {
      "image/png": "[encoded data removed]",
      "text/plain": [
       "<Figure size 432x288 with 1 Axes>"
      ]
     },
     "metadata": {
      "needs_background": "light"
     },
     "output_type": "display_data"
    }
   ],
   "source": [
    "for traj in trajs:\n",
    "    plot(process_trajectory(traj, 1)[1], alpha=0.2, c='b')\n",
    "for traj in phi_trajs:\n",
    "    plot(process_trajectory(traj, 1, replace_r=m.r)[1], alpha=0.2, c='r')\n",
    "axhline(0, c='g')"
   ]
  },
  {
   "cell_type": "code",
   "execution_count": 123,
   "metadata": {},
   "outputs": [
    {
     "data": {
      "text/plain": [
       "[<matplotlib.lines.Line2D at 0x17f886630>]"
      ]
     },
     "execution_count": 123,
     "metadata": {},
     "output_type": "execute_result"
    },
    {
     "data": {
      "image/png": "[encoded data removed]",
      "text/plain": [
       "<Figure size 432x288 with 1 Axes>"
      ]
     },
     "metadata": {
      "needs_background": "light"
     },
     "output_type": "display_data"
    }
   ],
   "source": [
    "plot(process_trajectory(phi_trajs[0], 1)[0])"
   ]
  },
  {
   "cell_type": "code",
   "execution_count": 124,
   "metadata": {},
   "outputs": [
    {
     "data": {
      "text/plain": [
       "[<matplotlib.lines.Line2D at 0x17f9ba7f0>]"
      ]
     },
     "execution_count": 124,
     "metadata": {},
     "output_type": "execute_result"
    },
    {
     "data": {
      "image/png": "[encoded data removed]",
      "text/plain": [
       "<Figure size 432x288 with 1 Axes>"
      ]
     },
     "metadata": {
      "needs_background": "light"
     },
     "output_type": "display_data"
    }
   ],
   "source": [
    "plot(process_trajectory(phi_trajs[0], 1, replace_r=m.r)[0])"
   ]
  },
  {
   "cell_type": "code",
   "execution_count": null,
   "metadata": {},
   "outputs": [],
   "source": []
  }
 ],
 "metadata": {
  "kernelspec": {
   "display_name": "Python 3",
   "language": "python",
   "name": "python3"
  },
  "language_info": {
   "codemirror_mode": {
    "name": "ipython",
    "version": 3
   },
   "file_extension": ".py",
   "mimetype": "text/x-python",
   "name": "python",
   "nbconvert_exporter": "python",
   "pygments_lexer": "ipython3",
   "version": "3.6.5"
  }
 },
 "nbformat": 4,
 "nbformat_minor": 2
}
